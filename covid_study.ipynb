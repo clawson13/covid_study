{
 "cells": [
  {
   "cell_type": "code",
   "execution_count": null,
   "id": "e7f0154c",
   "metadata": {},
   "outputs": [],
   "source": [
    "# Dependencies\n",
    "import json\n",
    "import requests\n",
    "import matplotlib.pyplot as plt\n",
    "import pandas as pd\n",
    "import numpy as np\n",
    "import requests\n",
    "import time\n",
    "import gmaps\n",
    "import plotly.express as px\n",
    "import scipy.stats as stats\n",
    "from scipy.stats import linregress\n",
    "from urllib.request import urlopen\n",
    "from scipy import stats\n",
    "from sodapy import Socrata\n",
    "from census import Census\n",
    "from config import appToken, api_key"
   ]
  },
  {
   "cell_type": "code",
   "execution_count": null,
   "id": "f641a96a",
   "metadata": {},
   "outputs": [],
   "source": [
    "# Use open client to obtain CDC COVID-19 death rates, including age/sex data\n",
    "client = Socrata(\"data.cdc.gov\", appToken)\n",
    "results = client.get(\"9bhg-hcku\", limit=4000000)\n",
    "\n",
    "# Convert to pandas DataFrame\n",
    "results_df = pd.DataFrame.from_records(results)"
   ]
  },
  {
   "cell_type": "code",
   "execution_count": null,
   "id": "58aed0b4",
   "metadata": {},
   "outputs": [],
   "source": [
    "# Convert state values for New York City to New York state\n",
    "results_df['state'] = results_df['state'].replace(['New York City'],'New York')\n",
    "\n",
    "# Filter DataFrame for State COVID-19 death totals only\n",
    "results_states = results_df.loc[(results_df['state'] != 'United States') & (results_df['age_group'] == 'All Ages') & (results_df['group'] == 'By Total') & (results_df['sex'] == 'All Sexes')]\n",
    "results_states = results_states[['state', 'covid_19_deaths']]\n",
    "\n",
    "# Create copy of DataFrame for tabulation, convert to int, combine New York values, and sort death counts descending\n",
    "converted_states_df = results_states.copy()\n",
    "converted_states_df = converted_states_df.astype({\"covid_19_deaths\": \"int64\"})\n",
    "converted_states_df.groupby('state').agg({'covid_19_deaths': 'sum'})\n",
    "converted_states_df2 = converted_states_df.groupby('state')['covid_19_deaths'].sum()\n",
    "states_df = pd.DataFrame(converted_states_df2).sort_values('covid_19_deaths',ascending=False)\n",
    "states_df"
   ]
  },
  {
   "cell_type": "code",
   "execution_count": null,
   "id": "7bdbaee9",
   "metadata": {},
   "outputs": [],
   "source": [
    "# Plot COVID-19 death totals by State\n",
    "# Set x axis and tick locations\n",
    "x_axis = np.arange(len(states_df['covid_19_deaths']))\n",
    "tick_locations = [value+0.4 for value in x_axis]\n",
    "\n",
    "# Create a list indicating where to write x labels and set figure size to adjust for space\n",
    "# Also assign separate color for four states with highest rates\n",
    "states = list(states_df.index.values)\n",
    "plt.figure(figsize=(14,6))\n",
    "barplot = plt.bar(x_axis, states_df['covid_19_deaths'], color='blue', alpha=0.5, align=\"edge\")\n",
    "plt.xticks(tick_locations, states, rotation=\"vertical\")\n",
    "barplot[0].set_color('red')\n",
    "barplot[1].set_color('red')\n",
    "barplot[2].set_color('red')\n",
    "barplot[3].set_color('red')\n",
    "\n",
    "# Set x and y limits\n",
    "plt.xlim(-0.25, len(x_axis))\n",
    "plt.ylim(0, max(states_df['covid_19_deaths'])+4000)\n",
    "\n",
    "# Set Title and Labels\n",
    "plt.title(\"Total COVID-19 Deaths by State\")\n",
    "plt.xlabel(\"State\")\n",
    "plt.ylabel(\"Deaths\")\n",
    "\n",
    "# Display the chart, and export for later use\n",
    "plt.tight_layout()\n",
    "plt.savefig(\"Images/deathct_by_state.png\")\n",
    "plt.show()"
   ]
  },
  {
   "cell_type": "code",
   "execution_count": null,
   "id": "0323073c",
   "metadata": {},
   "outputs": [],
   "source": [
    "# Filter CDC data for the four states with highest COVID-19 deaths, to include\n",
    "# data for both sexes, all ages\n",
    "results_sex = results_df.loc[((results_df['state'] == 'New York') | (results_df['state'] == 'Texas') | (results_df['state'] == 'California') | (results_df['state'] == 'Florida')) & (results_df['age_group'] == 'All Ages') & (results_df['group'] == 'By Total') & (results_df['sex'] != 'All Sexes')]\n",
    "results_sex = results_sex[['state', 'sex', 'covid_19_deaths']]\n",
    "results_sex = results_sex.astype({\"covid_19_deaths\": \"int64\"})\n",
    "\n",
    "# Combine New York state data, convert death total to integer for summation, and reset index\n",
    "results_sex = results_sex.groupby(['state','sex']).agg({'covid_19_deaths': 'sum'})\n",
    "converted_sex_df = pd.DataFrame(results_sex)\n",
    "converted_sex_df.reset_index(drop=False, inplace=True)\n",
    "converted_sex_df"
   ]
  },
  {
   "cell_type": "code",
   "execution_count": null,
   "id": "88f17c48",
   "metadata": {},
   "outputs": [],
   "source": [
    "# Create lists for plotting deaths by sex\n",
    "state_lst = []\n",
    "male_ct = converted_sex_df[converted_sex_df[\"sex\"] == 'Male'][\"covid_19_deaths\"].tolist()\n",
    "female_ct = converted_sex_df[converted_sex_df[\"sex\"] == 'Female'][\"covid_19_deaths\"].tolist()\n",
    "\n",
    "for state in converted_sex_df['state']:\n",
    "    if state in state_lst:\n",
    "        pass\n",
    "    else:\n",
    "        state_lst.append(state)\n",
    "\n",
    "# Plot COVID-19 death counts by State, stacking bars by Sex, assigning title/legend\n",
    "plt.bar(state_lst, male_ct, color='b', label=\"Male\", alpha=0.5)\n",
    "plt.bar(state_lst, female_ct, bottom=male_ct, color='r',label=\"Female\", alpha=0.5)\n",
    "plt.title(\"COVID-19 Deaths by Sex\")\n",
    "plt.legend(loc=\"upper center\")\n",
    "\n",
    "# Display total counts by sex at the top of each bar\n",
    "for i in range(len(state_lst)):\n",
    "    plt.text(i, male_ct[i], male_ct[i], ha=\"center\", va=\"top\", color=\"w\", fontweight=\"bold\")\n",
    "    plt.text(i, female_ct[i]+male_ct[i], female_ct[i], ha=\"center\", va=\"top\", color=\"w\", fontweight=\"bold\")\n",
    "\n",
    "# Display the chart, and export for later use\n",
    "plt.savefig(\"Images/deathct_by_sex.png\")\n",
    "plt.show()"
   ]
  },
  {
   "cell_type": "code",
   "execution_count": null,
   "id": "391cfc04",
   "metadata": {},
   "outputs": [],
   "source": [
    "# Filter CDC data for the three states with highest COVID-19 deaths, to include\n",
    "# death data for all age groups without overlap\n",
    "results_age = results_df.loc[((results_df['state'] == 'New York') | (results_df['state'] == 'Texas') | (results_df['state'] == 'California') | (results_df['state'] == 'Florida')) & (results_df['age_group'] != 'All Ages') & (results_df['group'] == 'By Total') & (results_df['sex'] == 'All Sexes')]\n",
    "results_age2 = results_age.loc[(results_df['age_group'] == '0-17 years') | (results_df['age_group'] == '18-29 years') | (results_df['age_group'] == '30-39 years') | (results_df['age_group'] == '40-49 years') | (results_df['age_group'] == '50-64 years') | (results_df['age_group'] == '65-74 years') | (results_df['age_group'] == '75-84 years') | (results_df['age_group'] == '85 years and over')]\n",
    "results_age2 = results_age2[['state', 'age_group', 'covid_19_deaths']]\n",
    "\n",
    "# Create copy of DataFrame for tabulation, combine New York state data, convert death total to integer for summation\n",
    "age_df = results_age2.copy()\n",
    "age_df = results_age2.astype({\"covid_19_deaths\": \"int64\"})\n",
    "age_df = age_df.groupby(['state','age_group']).agg({'covid_19_deaths': 'sum'})\n",
    "converted_age_df = pd.DataFrame(age_df)\n",
    "converted_age_df.reset_index(drop=False, inplace=True)\n",
    "converted_age_df"
   ]
  },
  {
   "cell_type": "code",
   "execution_count": null,
   "id": "67020d52",
   "metadata": {},
   "outputs": [],
   "source": [
    "# Create lists for plotting death by age group by state\n",
    "age_range = []\n",
    "cali_ct = age_df[age_df[\"state\"] == 'California'][\"covid_19_deaths\"].tolist()\n",
    "tex_ct = age_df[age_df[\"state\"] == 'Texas'][\"covid_19_deaths\"].tolist()\n",
    "ny_ct = age_df[age_df[\"state\"] == 'New York'][\"covid_19_deaths\"].tolist()\n",
    "flor_ct = age_df[age_df[\"state\"] == 'Florida'][\"covid_19_deaths\"].tolist()\n",
    "\n",
    "for age in age_df['age_group']:\n",
    "    if age in age_range:\n",
    "        pass\n",
    "    else:\n",
    "        age_range.append(age)\n",
    "        \n",
    "# Set index length and bar width \n",
    "index = np.arange(8)\n",
    "bar_width = 0.20\n",
    "        \n",
    "# Plot COVID-19 death counts by State grouped by Age Group\n",
    "fig, ax = plt.subplots()\n",
    "cali = ax.bar(index, cali_ct, bar_width, label=\"California\", color=\"blue\", alpha=0.5)\n",
    "ny = ax.bar(index-bar_width, ny_ct, bar_width, label=\"New York\", color=\"green\", alpha=0.5)\n",
    "texas = ax.bar(index+bar_width, tex_ct, bar_width, label=\"Texas\", color=\"red\", alpha=0.5)\n",
    "florida = ax.bar(index+bar_width+bar_width, flor_ct, bar_width, label=\"Florida\", color=\"orange\", alpha=0.5)\n",
    "\n",
    "# Assign title, labels, and legend\n",
    "ax.set_xlabel('Age Group')\n",
    "ax.set_ylabel('Deaths')\n",
    "ax.set_title('COVID-19 Deaths by Age Group')\n",
    "ax.set_xticks(index + bar_width / 2)\n",
    "ax.set_xticklabels(age_range, rotation=45, ha=\"right\")\n",
    "ax.legend()\n",
    "\n",
    "# Display the chart, and export for later use\n",
    "plt.tight_layout()\n",
    "plt.savefig(\"Images/deathct_by_agegrp.png\")\n",
    "plt.show()"
   ]
  },
  {
   "cell_type": "code",
   "execution_count": null,
   "id": "9e576f7f",
   "metadata": {},
   "outputs": [],
   "source": [
    "# Use open client to obtain CDC race and death data\n",
    "results2 = client.get(\"ks3g-spdg\", limit=4000000)\n",
    "\n",
    "# Convert to pandas DataFrame\n",
    "results2_df = pd.DataFrame.from_records(results2)\n",
    "results2_df"
   ]
  },
  {
   "cell_type": "code",
   "execution_count": null,
   "id": "d9f284a1",
   "metadata": {},
   "outputs": [],
   "source": [
    "# Filter CDC data for the four states with highest COVID-19 deaths, to include\n",
    "# death data for all race groups excepting nominal \"Unknown\" figures\n",
    "results_race = results2_df.loc[((results2_df['state'] == 'New York City') | (results2_df['state'] == 'New York') |(results2_df['state'] == 'Texas') | (results2_df['state'] == 'California') | (results2_df['state'] == 'Florida')) & (results2_df['race_and_hispanic_origin'] != 'Total Deaths') & (results2_df['race_and_hispanic_origin'] != 'Unknown')]\n",
    "results_race = results_race.loc[(results_race['age_group_new'] == '0-17 years') | (results_race['age_group_new'] == '18-29 years') | (results_race['age_group_new'] == '30-39 years') | (results_race['age_group_new'] == '40-49 years') | (results_race['age_group_new'] == '50-64 years') | (results_race['age_group_new'] == '65-74 years') | (results_race['age_group_new'] == '75-84 years') | (results_race['age_group_new'] == '85 years and over')]\n",
    "results_race2 = results_race.fillna(0)\n",
    "results_race2 = results_race2[['state', 'race_and_hispanic_origin', 'covid_19_deaths']]\n",
    "\n",
    "results_race2['state'] = results_race2['state'].replace(['New York City'],'New York')\n",
    "\n",
    "# Create copy of DataFrame for tabulation, convert death total to integer for summation\n",
    "converted_race_df = results_race2.copy()\n",
    "converted_race_df = converted_race_df.astype({\"covid_19_deaths\": \"int64\"})\n",
    "\n",
    "# Group DataFrame by State, Race cagtegories, combining data for New York\n",
    "group_race_df = converted_race_df.groupby(['state','race_and_hispanic_origin']).agg({'covid_19_deaths': 'sum'})\n",
    "race_df = pd.DataFrame(group_race_df[\"covid_19_deaths\"])\n",
    "\n",
    "# Convert DataFrame to pivot table\n",
    "dfr = race_df.pivot_table(index='race_and_hispanic_origin', columns='state', values='covid_19_deaths').sort_values('Texas',ascending=False)\n",
    "dfr"
   ]
  },
  {
   "cell_type": "code",
   "execution_count": null,
   "id": "e3eaf660",
   "metadata": {},
   "outputs": [],
   "source": [
    "# Create lists for plotting deaths by race\n",
    "race_range = dfr.index.tolist()\n",
    "cali_ct2 = dfr[\"California\"].tolist()\n",
    "ny_ct2 = dfr[\"New York\"].tolist()\n",
    "tex_ct2 = dfr[\"Texas\"].tolist()\n",
    "flor_ct2 = dfr[\"Florida\"].tolist()\n",
    "\n",
    "# Set index length and bar width \n",
    "index = np.arange(7)\n",
    "bar_width = 0.2\n",
    "        \n",
    "# Plot COVID-19 death counts for each State by Race \n",
    "fig, ax = plt.subplots()\n",
    "cali2 = ax.barh(index+bar_width+bar_width, cali_ct2, bar_width, label=\"California\", color=\"blue\", alpha=0.5)\n",
    "ny2 = ax.barh(index+bar_width, ny_ct2, bar_width, label=\"New York\", color=\"green\", alpha=0.5)\n",
    "texas2 = ax.barh(index-bar_width, tex_ct2, bar_width, label=\"Texas\", color=\"red\", alpha=0.5)\n",
    "florida2 = ax.barh(index, flor_ct2, bar_width, label=\"Florida\", color=\"orange\", alpha=0.5)\n",
    "\n",
    "# Assign title, labels, and legend\n",
    "ax.set_xlabel('Deaths')\n",
    "ax.set_title('COVID-19 Deaths by Race and Hispanic Origin')\n",
    "ax.set_yticks(index + bar_width / 2)\n",
    "ax.set_yticklabels(race_range)\n",
    "ax.legend(loc=\"upper right\")\n",
    "\n",
    "# Display the chart, and export for later use\n",
    "plt.savefig(\"Images/deathct_by_racegrp.png\", bbox_inches='tight')\n",
    "plt.figure(figsize=(30,10))\n",
    "plt.tight_layout()\n",
    "plt.show()"
   ]
  },
  {
   "cell_type": "code",
   "execution_count": null,
   "id": "a70fe318",
   "metadata": {},
   "outputs": [],
   "source": [
    "# Import Census api key\n",
    "from config import api_key\n",
    "\n",
    "# Get 2020 Census data by race for the four states under study\n",
    "census_2020_url = \"https://api.census.gov/data/2020/dec/pl?get=NAME,P2_005N,P2_002N,P2_006N,P2_008N,P2_007N,P2_011N,P2_009N&for=state:06,12,36,48&key=\" + api_key\n",
    "census_data = requests.get(census_2020_url).json()"
   ]
  },
  {
   "cell_type": "code",
   "execution_count": null,
   "id": "8036d370",
   "metadata": {},
   "outputs": [],
   "source": [
    "# Create DataFrame of census data and create header row\n",
    "census_pd = pd.DataFrame(census_data).T\n",
    "new_header = census_pd.iloc[0]\n",
    "census_pd = census_pd[1:8]\n",
    "census_pd.columns = new_header \n",
    "\n",
    "# Create lists of death counts by state and add to DataFrame\n",
    "cali_data = census_pd['California'].astype(int).tolist()\n",
    "ny_data = census_pd['New York'].astype(int).tolist()\n",
    "flor_data = census_pd['Florida'].astype(int).tolist()\n",
    "tex_data = census_pd['Texas'].astype(int).tolist()\n",
    "\n",
    "dfr['California Total Pop.'] = cali_data\n",
    "dfr['New York Total Pop.'] = ny_data\n",
    "dfr['Florida Total Pop.'] = flor_data\n",
    "dfr['Texas Total Pop.'] = tex_data\n",
    "\n",
    "# Sum total deaths and population\n",
    "sum_cali_deaths = sum(dfr['California'])\n",
    "sum_ny_deaths = sum(dfr['New York'])\n",
    "sum_flor_deaths = sum(dfr['Florida'])\n",
    "sum_tex_deaths = sum(dfr['Texas'])\n",
    "\n",
    "sum_cali = sum(dfr['California Total Pop.'])\n",
    "sum_ny = sum(dfr['New York Total Pop.'])\n",
    "sum_flor = sum(dfr['Florida Total Pop.'])\n",
    "sum_tex = sum(dfr['Texas Total Pop.'])\n",
    "\n",
    "# Create DataFrame summarizing populations and death rates by state with mapping and date stamp\n",
    "death_rates = pd.DataFrame({\n",
    "    \"State\" : [\"California\", \"Florida\", \"New York\", \"Texas\"],\n",
    "    \"Population\" : [sum_cali, sum_flor, sum_ny, sum_tex],\n",
    "    \"COVID-19 Deaths\" : [sum_cali_deaths, sum_flor_deaths, sum_ny_deaths, sum_tex_deaths],\n",
    "    \"Death Rate %\" : [sum_cali_deaths / sum_cali * 100,\n",
    "                      sum_flor_deaths / sum_flor * 100,\n",
    "                      sum_ny_deaths / sum_ny * 100,\n",
    "                      sum_tex_deaths / sum_tex * 100,],\n",
    "})\n",
    "\n",
    "death_rates[\"Population\"] = death_rates[\"Population\"].map(\"{:,.0f}\".format)\n",
    "death_rates[\"COVID-19 Deaths\"] = death_rates[\"COVID-19 Deaths\"].map(\"{:,.0f}\".format)\n",
    "death_rates[\"Death Rate %\"] = death_rates[\"Death Rate %\"].map(\"{:.2f}%\".format)\n",
    "\n",
    "today = pd.to_datetime(\"today\")\n",
    "\n",
    "death_rates\n",
    "death_rates.style.set_caption(f\"Update: {today:%m/%d/%Y}\")\\\n",
    " .set_table_styles([{\n",
    "     'selector': 'caption',\n",
    "     'props': 'caption-side: bottom; color:black;'\n",
    " }], overwrite=False)"
   ]
  },
  {
   "cell_type": "code",
   "execution_count": null,
   "id": "8119be88",
   "metadata": {},
   "outputs": [],
   "source": [
    "# Display working data for chi-square testing\n",
    "dfr"
   ]
  },
  {
   "cell_type": "code",
   "execution_count": null,
   "id": "50313b5e",
   "metadata": {},
   "outputs": [],
   "source": [
    "# Calculate death count % and population % by race for chi-squared test and show summary table with date stamp\n",
    "dfr[\"CA Deaths %\"] = dfr['California']/sum_cali_deaths*100\n",
    "dfr[\"CA Population %\"] = dfr['California Total Pop.']/sum_cali*100\n",
    "\n",
    "\n",
    "dfr[\"FL Deaths %\"] = dfr['Florida']/sum_flor_deaths*100\n",
    "dfr[\"FL Population %\"] = dfr['Florida Total Pop.']/sum_flor*100\n",
    "\n",
    "\n",
    "dfr[\"NY Deaths %\"] = dfr['New York']/sum_ny_deaths*100\n",
    "dfr[\"NY Population %\"] = dfr['New York Total Pop.']/sum_ny*100\n",
    "\n",
    "dfr[\"TX Deaths %\"] = dfr['Texas']/sum_tex_deaths*100\n",
    "dfr[\"TX Population %\"] = dfr['Texas Total Pop.']/sum_tex*100\n",
    "\n",
    "\n",
    "dfr = dfr[[\"CA Deaths %\", \"CA Population %\", \"FL Deaths %\", \"FL Population %\", \"NY Deaths %\", \"NY Population %\", \"TX Deaths %\", \"TX Population %\"]]\n",
    "\n",
    "dfr_disp = dfr.copy()\n",
    "\n",
    "dfr_disp[\"CA Deaths %\"] = dfr_disp[\"CA Deaths %\"].map(\"{:.2f}\".format)\n",
    "dfr_disp[\"CA Population %\"] = dfr_disp[\"CA Population %\"].map(\"{:.2f}\".format)\n",
    "dfr_disp[\"FL Deaths %\"] = dfr_disp[\"FL Deaths %\"].map(\"{:.2f}\".format)\n",
    "dfr_disp[\"FL Population %\"] = dfr_disp[\"FL Population %\"].map(\"{:.2f}\".format)\n",
    "dfr_disp[\"NY Deaths %\"] = dfr_disp[\"NY Deaths %\"].map(\"{:.2f}\".format)\n",
    "dfr_disp[\"NY Population %\"] = dfr_disp[\"NY Population %\"].map(\"{:.2f}\".format)\n",
    "dfr_disp[\"TX Deaths %\"] = dfr_disp[\"TX Deaths %\"].map(\"{:.2f}\".format)\n",
    "dfr_disp[\"TX Population %\"] = dfr_disp[\"TX Population %\"].map(\"{:.2f}\".format)\n",
    "\n",
    "today = pd.to_datetime(\"today\")\n",
    "\n",
    "dfr_disp\n",
    "dfr_disp.index.name=''\n",
    "dfr_disp.columns.name=''\n",
    "dfr_disp.style.set_caption(f\"Update: {today:%m/%d/%Y}\")\\\n",
    " .set_table_styles([{\n",
    "     'selector': 'caption',\n",
    "     'props': 'caption-side: bottom; color:black;'\n",
    " }], overwrite=False)"
   ]
  },
  {
   "cell_type": "code",
   "execution_count": null,
   "id": "06c4c432",
   "metadata": {},
   "outputs": [],
   "source": [
    "# Hypothesis: Demographic particulars such as sex, age, race, et al., may impact COVID-19 death outcomes.\n",
    "# Null Hypothesis: Demographic particulars do not impact COVID-19 death outcomes.\n",
    "\n",
    "# Race Test: Conduct chi-square test to see if death counts for any states show significance compared to\n",
    "# general population by race group.\n",
    "\n",
    "# The degree of freedom is 7-1 = 6 (two columns only for each state)\n",
    "# With a p-value of 0.05, the confidence level is 1.00-0.05 = 0.95.\n",
    "critical_value = stats.chi2.ppf(q = 0.95, df = 6)\n",
    "# The critical value\n",
    "critical_value"
   ]
  },
  {
   "cell_type": "code",
   "execution_count": null,
   "id": "f83cffb9",
   "metadata": {},
   "outputs": [],
   "source": [
    "stats.chisquare(dfr['CA Deaths %'], dfr['CA Population %']) # California test"
   ]
  },
  {
   "cell_type": "code",
   "execution_count": null,
   "id": "ca2d442c",
   "metadata": {},
   "outputs": [],
   "source": [
    "stats.chisquare(dfr['FL Deaths %'], dfr['FL Population %']) # Florida test"
   ]
  },
  {
   "cell_type": "code",
   "execution_count": null,
   "id": "eedcfcd4",
   "metadata": {},
   "outputs": [],
   "source": [
    "stats.chisquare(dfr['NY Deaths %'], dfr['NY Population %']) # New York test"
   ]
  },
  {
   "cell_type": "code",
   "execution_count": null,
   "id": "a5f0d0ea",
   "metadata": {},
   "outputs": [],
   "source": [
    "stats.chisquare(dfr['TX Deaths %'], dfr['TX Population %']) # Texas test"
   ]
  },
  {
   "cell_type": "code",
   "execution_count": null,
   "id": "b19fb3ca",
   "metadata": {},
   "outputs": [],
   "source": [
    "# Date stamp for test result\n",
    "today = pd.to_datetime(\"today\")\n",
    "print(f\"Update: {today:%m/%d/%Y}\")"
   ]
  },
  {
   "cell_type": "markdown",
   "id": "5e8d15e5",
   "metadata": {},
   "source": [
    "### Conclusion\n",
    "* Since the chi-square values at a confidence level of 95% are much lower than the critical value of 12.6, we conclude that the differences seen across race categories compared to the states' general populations are not statistically significant."
   ]
  },
  {
   "cell_type": "code",
   "execution_count": null,
   "id": "811b1717",
   "metadata": {},
   "outputs": [],
   "source": [
    "# Use open client to obtain data\n",
    "client = Socrata(\"data.cdc.gov\", appToken)\n",
    "results = client.get(\"dnhi-s2bf\", limit = 1000000)\n",
    "\n",
    "# Convert to pandas DataFrame\n",
    "death_quarterly = pd.DataFrame.from_records(results)"
   ]
  },
  {
   "cell_type": "code",
   "execution_count": null,
   "id": "2da5cabc",
   "metadata": {},
   "outputs": [],
   "source": [
    "# Cleaning columns and dropping NA values\n",
    "death_quarterly_1 = death_quarterly.drop(columns=['footnote'])\n",
    "death_quarterly_2 = death_quarterly_1.dropna(subset =['covid_19_deaths','total_deaths'])"
   ]
  },
  {
   "cell_type": "code",
   "execution_count": null,
   "id": "03578b39",
   "metadata": {},
   "outputs": [],
   "source": [
    "# Setting numerical values to int for future calculations\n",
    "death_quarterly_2['total_deaths'] = death_quarterly_2['total_deaths'].astype(int)\n",
    "death_quarterly_2['covid_19_deaths'] = death_quarterly_2['covid_19_deaths'].astype(int)\n",
    "\n",
    "#Group by county level\n",
    "death_gb = death_quarterly_2.groupby(['fips_code'])\n",
    "death_gb_df = death_gb.sum()"
   ]
  },
  {
   "cell_type": "code",
   "execution_count": null,
   "id": "c61803bc",
   "metadata": {},
   "outputs": [],
   "source": [
    "# Calculating new column to calculate covid death %\n",
    "death_gb_df['covid_portion_of_total_deaths'] = death_gb_df['covid_19_deaths']/death_gb_df['total_deaths']\n",
    "death_gb_df = pd.DataFrame(death_gb_df)\n",
    "death_gb_df.reset_index(inplace=True)"
   ]
  },
  {
   "cell_type": "code",
   "execution_count": null,
   "id": "333fcc2f",
   "metadata": {},
   "outputs": [],
   "source": [
    "# Generating stats on the datafame to get range for plot\n",
    "death_gb_df.describe(include='all')"
   ]
  },
  {
   "cell_type": "code",
   "execution_count": null,
   "id": "ffe1f78b",
   "metadata": {},
   "outputs": [],
   "source": [
    "# URL for GET requests to retrieve county data\n",
    "url = \"https://raw.githubusercontent.com/plotly/datasets/master/geojson-counties-fips.json\"\n",
    "response = requests.get(url).json()"
   ]
  },
  {
   "cell_type": "code",
   "execution_count": null,
   "id": "a134b1e0",
   "metadata": {},
   "outputs": [],
   "source": [
    "# Creating map of polygons representing county boundaries\n",
    "fig = px.choropleth(death_gb_df, geojson=response, locations='fips_code', color='covid_portion_of_total_deaths',\n",
    "                           color_continuous_scale=\"ylgnbu\",\n",
    "                           range_color=(0, .35),\n",
    "                           scope=\"usa\",\n",
    "                           labels={'covid_portion_of_total_deaths':'Covid Deaths as % of Total Deaths'}\n",
    "                          )\n",
    "fig.show()"
   ]
  },
  {
   "cell_type": "code",
   "execution_count": null,
   "id": "44e69fec",
   "metadata": {},
   "outputs": [],
   "source": [
    "# Renaming column for later merge\n",
    "death_df = death_gb_df.rename(columns = {'fips_code':'fips'})"
   ]
  },
  {
   "cell_type": "code",
   "execution_count": null,
   "id": "55810bed",
   "metadata": {},
   "outputs": [],
   "source": [
    "# Use open client to obtain data - can take up to 5 minutes to get results in dataframe ~1.6M rows\n",
    "client = Socrata(\"data.cdc.gov\", appToken)\n",
    "results = client.get(\"8xkx-amqh\", limit = 2000000)\n",
    "                     \n",
    "# Convert to pandas DataFrame\n",
    "results_df = pd.DataFrame.from_records(results)"
   ]
  },
  {
   "cell_type": "code",
   "execution_count": null,
   "id": "c64cb16c",
   "metadata": {},
   "outputs": [],
   "source": [
    "# Limiting to specific columns\n",
    "results_df_columns = results_df[['date','fips','recip_state','recip_county',\n",
    "                                     'completeness_pct','administered_dose1_recip',\n",
    "                                     'administered_dose1_pop_pct','series_complete_yes',\n",
    "                                     'series_complete_pop_pct','metro_status','census2019']]"
   ]
  },
  {
   "cell_type": "code",
   "execution_count": null,
   "id": "fa831bf6",
   "metadata": {},
   "outputs": [],
   "source": [
    "# Setting up a clean datafame with out any NA and setting a date column\n",
    "clean_df = results_df_columns.dropna()\n",
    "clean_df['date'] = pd.to_datetime(clean_df['date']).dt.date"
   ]
  },
  {
   "cell_type": "code",
   "execution_count": null,
   "id": "6712b781",
   "metadata": {},
   "outputs": [],
   "source": [
    "# Inserting Year Quarter Month columns\n",
    "clean_df['month'] = pd.DatetimeIndex(clean_df['date']).month\n",
    "clean_df['quarter'] = pd.DatetimeIndex(clean_df['date']).quarter\n",
    "clean_df['year'] = pd.DatetimeIndex(clean_df['date']).year"
   ]
  },
  {
   "cell_type": "code",
   "execution_count": null,
   "id": "6155544d",
   "metadata": {},
   "outputs": [],
   "source": [
    "# Grouping by county and taking max value\n",
    "grouped_fips = clean_df.groupby(['fips'])\n",
    "max_group = grouped_fips.max()"
   ]
  },
  {
   "cell_type": "code",
   "execution_count": null,
   "id": "eb153a36",
   "metadata": {},
   "outputs": [],
   "source": [
    "# Creating a data frame by vaccine dose\n",
    "max_dose = pd.DataFrame(max_group[['administered_dose1_recip','administered_dose1_pop_pct']]) "
   ]
  },
  {
   "cell_type": "code",
   "execution_count": null,
   "id": "009c3edc",
   "metadata": {},
   "outputs": [],
   "source": [
    "# Merging Death dataframe and Vaccine data frame\n",
    "merged_df = death_df.merge(max_dose,on='fips')"
   ]
  },
  {
   "cell_type": "code",
   "execution_count": null,
   "id": "a5c4eeff",
   "metadata": {},
   "outputs": [],
   "source": [
    "# Renaming columns from deaths dataframe and assigning proper types to columns\n",
    "death_quarterly_2 = death_quarterly.rename(columns = {'fips_code' : 'fips'})\n",
    "death_quarterly_2['year']= death_quarterly_2['year'].astype(int)\n",
    "death_quarterly_2['quarter']=death_quarterly_2['quarter'].astype(int)\n",
    "clean_df['year']=clean_df['year'].astype(int)\n",
    "clean_df['quarter']=clean_df['quarter'].astype(int)"
   ]
  },
  {
   "cell_type": "code",
   "execution_count": null,
   "id": "4febf560",
   "metadata": {},
   "outputs": [],
   "source": [
    "# Merging deaths and our clean dataframe and limiting to 4 states CA,FL,TX,NY\n",
    "total_quarter = pd.merge(death_quarterly_2,clean_df, on = ('fips','year','quarter'),how ='inner')\n",
    "total_quarter_2 = total_quarter.loc[(total_quarter['state_of_residence']=='Florida')|(total_quarter['state_of_residence'] =='Texas')|(total_quarter['state_of_residence'] =='California')|(total_quarter['state_of_residence'] =='New York'),:]"
   ]
  },
  {
   "cell_type": "code",
   "execution_count": null,
   "id": "176a67e9",
   "metadata": {},
   "outputs": [],
   "source": [
    "# Inserting quarter column for plotting purposes\n",
    "total_quarter_2['quarter_number'] = pd.to_datetime(total_quarter_2['year'].astype(str) + 'Q' + total_quarter_2['quarter'].astype(str))"
   ]
  },
  {
   "cell_type": "code",
   "execution_count": null,
   "id": "a2b36d6b",
   "metadata": {},
   "outputs": [],
   "source": [
    "# Cleaning out any NA from merge and calculating covid death rate\n",
    "total_quarter_2.dropna(subset = ['covid_19_deaths','total_deaths'])\n",
    "total_quarter_2['covid_death_rate']= total_quarter_2['covid_19_deaths'].astype(float)/total_quarter_2['total_deaths'].astype(float)"
   ]
  },
  {
   "cell_type": "code",
   "execution_count": null,
   "id": "534fdc65",
   "metadata": {},
   "outputs": [],
   "source": [
    "# Removing duplicate values\n",
    "total_quarter_2.drop_duplicates(subset =['quarter_number','fips'],inplace=True)                                                                                                                                    "
   ]
  },
  {
   "cell_type": "code",
   "execution_count": null,
   "id": "6012be8a",
   "metadata": {},
   "outputs": [],
   "source": [
    "# Column names to use for plots\n",
    "total_quarter_2.columns"
   ]
  },
  {
   "cell_type": "code",
   "execution_count": null,
   "id": "fa758cd8",
   "metadata": {},
   "outputs": [],
   "source": [
    "# Setting proper variable types\n",
    "total_quarter_2['administered_dose1_recip'] = total_quarter_2['administered_dose1_recip'].astype(float) \n",
    "total_quarter_2['census2019'] = total_quarter_2['census2019'].astype(float) \n",
    "total_quarter_2['covid_19_deaths'] = total_quarter_2['covid_19_deaths'].astype(float) \n",
    "total_quarter_2['total_deaths'] = total_quarter_2['total_deaths'].astype(float) "
   ]
  },
  {
   "cell_type": "code",
   "execution_count": null,
   "id": "7d1043c3",
   "metadata": {},
   "outputs": [],
   "source": [
    "# Creating df for California\n",
    "california_df = total_quarter_2.loc[total_quarter_2['state_of_residence'] == 'California',:]\n",
    "cali_quarter_group = california_df.groupby('quarter_number')\n",
    "cali_quarter_df = cali_quarter_group.sum()"
   ]
  },
  {
   "cell_type": "code",
   "execution_count": null,
   "id": "be092b8c",
   "metadata": {},
   "outputs": [],
   "source": [
    "# Adding calculated columns for covid deaths and vaccine rate\n",
    "cali_quarter_df['covid_death_rate']= cali_quarter_df['covid_19_deaths']/cali_quarter_df['total_deaths']\n",
    "cali_quarter_df['vaccine_rate']= cali_quarter_df['administered_dose1_recip']/cali_quarter_df['census2019']\n"
   ]
  },
  {
   "cell_type": "code",
   "execution_count": null,
   "id": "cb006378",
   "metadata": {},
   "outputs": [],
   "source": [
    "# Setting proper variables for original quarter dataframe\n",
    "total_quarter['administered_dose1_recip'] = total_quarter['administered_dose1_recip'].astype(float) \n",
    "total_quarter['census2019'] = total_quarter['census2019'].astype(float) \n",
    "total_quarter['covid_19_deaths'] = total_quarter['covid_19_deaths'].astype(float) \n",
    "total_quarter['total_deaths'] = total_quarter['total_deaths'].astype(float) "
   ]
  },
  {
   "cell_type": "code",
   "execution_count": null,
   "id": "7e66940a",
   "metadata": {},
   "outputs": [],
   "source": [
    "# Creating df for Florida\n",
    "florida_df = total_quarter_2.loc[total_quarter_2['state_of_residence'] == 'Florida',:]\n",
    "FL_quarter_group = florida_df.groupby('quarter_number')\n",
    "FL_quarter_df = FL_quarter_group.sum()"
   ]
  },
  {
   "cell_type": "code",
   "execution_count": null,
   "id": "5dc0e181",
   "metadata": {},
   "outputs": [],
   "source": [
    "# Adding calculated columns for covid deaths and vaccine rate\n",
    "FL_quarter_df['covid_death_rate']= FL_quarter_df['covid_19_deaths']/FL_quarter_df['total_deaths']\n",
    "FL_quarter_df['vaccine_rate']= FL_quarter_df['administered_dose1_recip']/FL_quarter_df['census2019']"
   ]
  },
  {
   "cell_type": "code",
   "execution_count": null,
   "id": "67012508",
   "metadata": {},
   "outputs": [],
   "source": [
    "# Creating df for Texas\n",
    "texas_df = total_quarter_2.loc[total_quarter_2['state_of_residence'] == 'Texas',:]\n",
    "TX_quarter_group = texas_df.groupby('quarter_number')\n",
    "TX_quarter_df = TX_quarter_group.sum()"
   ]
  },
  {
   "cell_type": "code",
   "execution_count": null,
   "id": "4232e24f",
   "metadata": {},
   "outputs": [],
   "source": [
    "# Adding calculated columns for covid deaths and vaccine rate\n",
    "TX_quarter_df['covid_death_rate']= TX_quarter_df['covid_19_deaths']/TX_quarter_df['total_deaths']\n",
    "TX_quarter_df['vaccine_rate']= TX_quarter_df['administered_dose1_recip']/TX_quarter_df['census2019']\n"
   ]
  },
  {
   "cell_type": "code",
   "execution_count": null,
   "id": "71537e34",
   "metadata": {},
   "outputs": [],
   "source": [
    "# Creating dataframe for scatter plot\n",
    "scatter_quarter = total_quarter\n",
    "scatter_quarter['quarter_number'] = pd.to_datetime(total_quarter['year'].astype(str) + 'Q' + total_quarter['quarter'].astype(str))"
   ]
  },
  {
   "cell_type": "code",
   "execution_count": null,
   "id": "6252a0b8",
   "metadata": {},
   "outputs": [],
   "source": [
    "# Limiting to specific columns\n",
    "scatter_plot = scatter_quarter.loc[:,['fips','administered_dose1_recip','census2019','covid_19_deaths','total_deaths','quarter_number']]"
   ]
  },
  {
   "cell_type": "code",
   "execution_count": null,
   "id": "5e83adf6",
   "metadata": {},
   "outputs": [],
   "source": [
    "# Removing duplicates\n",
    "scatter_plot.drop_duplicates(subset =['quarter_number','fips'],inplace=True)"
   ]
  },
  {
   "cell_type": "code",
   "execution_count": null,
   "id": "ff42b4fb",
   "metadata": {},
   "outputs": [],
   "source": [
    "# Removing NA values\n",
    "scatter_plot.dropna()"
   ]
  },
  {
   "cell_type": "code",
   "execution_count": null,
   "id": "bba251f3",
   "metadata": {},
   "outputs": [],
   "source": [
    "# Setting a clean df for the scatter\n",
    "clean_scatter = scatter_plot.loc[(scatter_plot['administered_dose1_recip'] != 0) & (scatter_plot['covid_19_deaths'] != 0) & (scatter_plot['census2019'] != 0) &(scatter_plot['total_deaths'] != 0),:]"
   ]
  },
  {
   "cell_type": "code",
   "execution_count": null,
   "id": "3bdfaceb",
   "metadata": {},
   "outputs": [],
   "source": [
    "# Removing 0 values and inf values to get proper rate calculations\n",
    "clean_scatter.replace([np.inf, -np.inf], np.nan, inplace=True)\n",
    "clean_scatter.dropna(inplace=True)"
   ]
  },
  {
   "cell_type": "code",
   "execution_count": null,
   "id": "6f8f2f81",
   "metadata": {},
   "outputs": [],
   "source": [
    "# Scatter plot to show covid death % and vaccine pop fraction\n",
    "x_x = clean_scatter['administered_dose1_recip']/clean_scatter['census2019']\n",
    "y_y = clean_scatter['covid_19_deaths']/clean_scatter['total_deaths']\n",
    "\n",
    "fig1, ax1 = plt.subplots()\n",
    "plt.scatter(x_x,y_y)\n",
    "plt.xlabel('Fraction of Pop Vaccinated')\n",
    "plt.ylabel('Covid Death %')\n",
    "plt.show()"
   ]
  },
  {
   "cell_type": "code",
   "execution_count": null,
   "id": "5d0f01d0",
   "metadata": {},
   "outputs": [],
   "source": [
    "# Linear regression on scatter plot\n",
    "correlation = stats.pearsonr(x_x,y_y)\n",
    "print(f\"The correlation between vaccine percent \\033[34mand\\033[0m the covid death percent \\033[34mis\\033[0m \\033[31m{round(correlation[0],2)}\\033[0m\")\n",
    "\n",
    "# Creating Plot for scatter and adding line\n",
    "(slope, intercept,rvalue, pvalue, stderr) = linregress(x_x,y_y)\n",
    "regress = x_x* slope + intercept\n",
    "line_eq = f\"y = {round(slope, 2)} x + {round(intercept, 2)}\"\n",
    "\n",
    "plt.scatter(x_x,y_y, s = 3)\n",
    "plt.plot(x_x, regress, color='red')\n",
    "plt.annotate(line_eq,(.4,.5),fontsize=12,color=\"red\")\n",
    "plt.xlabel('Fraction of Pop Vaccinated')\n",
    "plt.ylabel('Covid Death %')\n",
    "\n",
    "# Uncomment below to save image to desired location\n",
    "#plt.savefig(\"../Images/Scatter_Vaccine_vs_Death\")\n",
    "\n",
    "plt.show()\n"
   ]
  },
  {
   "cell_type": "code",
   "execution_count": null,
   "id": "de3e9e95",
   "metadata": {
    "scrolled": false
   },
   "outputs": [],
   "source": [
    "# Creating 2D heatmap from scatter to show concentration\n",
    "x_min = np.min(x_x)\n",
    "x_max = np.max(x_x)\n",
    "  \n",
    "y_min = np.min(y_y)\n",
    "y_max = np.max(y_y)\n",
    "\n",
    "x_bins = np.linspace(x_min, x_max, 70)\n",
    "y_bins = np.linspace(y_min, y_max, 50)\n",
    "\n",
    "fig, ax = plt.subplots()\n",
    "plt.hist2d(x_x, y_y, bins = [x_bins,y_bins],cmap = plt.cm.nipy_spectral)\n",
    "\n",
    "plt.xlabel('Fraction of Pop Vaccinated')\n",
    "plt.ylabel('Covid Death %')\n",
    "\n",
    "# Uncomment below to save image to desired location\n",
    "#plt.savefig(\"../Images/Scatter_Vaccine_vs_Death_Heat\")\n",
    "\n",
    "plt.show()"
   ]
  },
  {
   "cell_type": "code",
   "execution_count": null,
   "id": "0827ee2c",
   "metadata": {},
   "outputs": [],
   "source": [
    "# Creating df for New York\n",
    "NY_df = total_quarter_2.loc[total_quarter_2['state_of_residence'] == 'New York',:]\n",
    "NY_quarter_group = NY_df.groupby('quarter_number')\n",
    "NY_quarter_df = NY_quarter_group.sum()"
   ]
  },
  {
   "cell_type": "code",
   "execution_count": null,
   "id": "94e45667",
   "metadata": {},
   "outputs": [],
   "source": [
    "# Adding calculated columns for covid deaths and vaccine rate\n",
    "NY_quarter_df['covid_death_rate']= NY_quarter_df['covid_19_deaths']/NY_quarter_df['total_deaths']\n",
    "NY_quarter_df['vaccine_rate']= NY_quarter_df['administered_dose1_recip']/NY_quarter_df['census2019']"
   ]
  },
  {
   "cell_type": "code",
   "execution_count": null,
   "id": "89a56d91",
   "metadata": {},
   "outputs": [],
   "source": [
    "# Set index length and bar width\n",
    "quarter_label = ['2020 Q4', '2021 Q1','2021 Q2']\n",
    "index = np.arange(3)\n",
    "bar_width = 0.20\n",
    "\n",
    "# Plot COVID-19 death & Vaccine counts by State\n",
    "fig, ax = plt.subplots()\n",
    "ny = ax.bar(index,NY_quarter_df[\"covid_death_rate\"], bar_width, label='COVID-19 Death Rate', color='red', alpha=0.5)\n",
    "ny2 = ax.bar(index+bar_width,NY_quarter_df[\"vaccine_rate\"], bar_width, label='Vaccine % of Total', color='green', alpha=0.5)\n",
    "\n",
    "# Assign title, labels, and legend\n",
    "ax.set_xlabel('Quarter')\n",
    "ax.set_ylabel('Percent')\n",
    "ax.set_title('New York COVID-19 Death Rate vs. Vaccine Percent')\n",
    "ax.set_xticks(index + bar_width / 2)\n",
    "ax.set_xticklabels(quarter_label, rotation=45, ha='right')\n",
    "ax.legend()\n",
    "\n",
    "# Display the chart, and export for later use\n",
    "plt.tight_layout()\n",
    "\n",
    "# Uncomment below to save image to desired location\n",
    "#plt.savefig('../Images/NY_Covid_Death_vs_Vaccine_Rate.png')\n",
    "\n",
    "plt.show()"
   ]
  },
  {
   "cell_type": "code",
   "execution_count": null,
   "id": "8b35b6c4",
   "metadata": {},
   "outputs": [],
   "source": [
    "# Set index length and bar width\n",
    "quarter_label = ['2020 Q4', '2021 Q1','2021 Q2']\n",
    "index = np.arange(3)\n",
    "bar_width = 0.20\n",
    "\n",
    "# Plot COVID-19 death & Vaccine counts by State\n",
    "fig, ax = plt.subplots()\n",
    "ny = ax.bar(index,cali_quarter_df[\"covid_death_rate\"], bar_width, label='COVID-19 Death Rate', color='red', alpha=0.5)\n",
    "ny2 = ax.bar(index+bar_width,cali_quarter_df[\"vaccine_rate\"], bar_width, label='Vaccine % of Total', color='green', alpha=0.5)\n",
    "\n",
    "# Assign title, labels, and legend\n",
    "ax.set_xlabel('Quarter')\n",
    "ax.set_ylabel('Percent')\n",
    "ax.set_title('California COVID-19 Death Rate vs. Vaccine Percent')\n",
    "ax.set_xticks(index + bar_width / 2)\n",
    "ax.set_xticklabels(quarter_label, rotation=45, ha='right')\n",
    "ax.legend()\n",
    "\n",
    "# Display the chart, and export for later use\n",
    "plt.tight_layout()\n",
    "\n",
    "# Uncomment below to save image to desired location\n",
    "#plt.savefig('../Images/CA_Covid_Death_vs_Vaccine_Rate.png')\n",
    "\n",
    "plt.show()"
   ]
  },
  {
   "cell_type": "code",
   "execution_count": null,
   "id": "772dfd99",
   "metadata": {},
   "outputs": [],
   "source": [
    "# Set index length and bar width\n",
    "quarter_label = ['2020 Q4', '2021 Q1','2021 Q2']\n",
    "index = np.arange(3)\n",
    "bar_width = 0.20\n",
    "\n",
    "# Plot COVID-19 death & Vaccine counts by State\n",
    "fig, ax = plt.subplots()\n",
    "ny = ax.bar(index,FL_quarter_df[\"covid_death_rate\"], bar_width, label='COVID-19 Death Rate', color='red', alpha=0.5)\n",
    "ny2 = ax.bar(index+bar_width,FL_quarter_df[\"vaccine_rate\"], bar_width, label='Vaccine % of Total', color='green', alpha=0.5)\n",
    "\n",
    "# Assign title, labels, and legend\n",
    "ax.set_xlabel('Quarter')\n",
    "ax.set_ylabel('Percent')\n",
    "ax.set_title('Florida COVID-19 Death Rate vs. Vaccine Percent')\n",
    "ax.set_xticks(index + bar_width / 2)\n",
    "ax.set_xticklabels(quarter_label, rotation=45, ha='right')\n",
    "ax.legend()\n",
    "\n",
    "# Display the chart, and export for later use\n",
    "plt.tight_layout()\n",
    "\n",
    "# Uncomment below to save image to desired location\n",
    "#plt.savefig('../Images/FL_Covid_Death_vs_Vaccine_Rate.png')\n",
    "\n",
    "plt.show()"
   ]
  },
  {
   "cell_type": "code",
   "execution_count": null,
   "id": "57526586",
   "metadata": {},
   "outputs": [],
   "source": []
  }
 ],
 "metadata": {
  "kernelspec": {
   "display_name": "Python [conda env:PythonData38] *",
   "language": "python",
   "name": "conda-env-PythonData38-py"
  },
  "language_info": {
   "codemirror_mode": {
    "name": "ipython",
    "version": 3
   },
   "file_extension": ".py",
   "mimetype": "text/x-python",
   "name": "python",
   "nbconvert_exporter": "python",
   "pygments_lexer": "ipython3",
   "version": "3.8.12"
  }
 },
 "nbformat": 4,
 "nbformat_minor": 5
}
